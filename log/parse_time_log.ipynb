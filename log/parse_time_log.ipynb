{
 "cells": [
  {
   "cell_type": "code",
   "execution_count": 72,
   "metadata": {},
   "outputs": [],
   "source": [
    "import re\n",
    "from collections import defaultdict"
   ]
  },
  {
   "cell_type": "code",
   "execution_count": 71,
   "metadata": {},
   "outputs": [
    {
     "name": "stdout",
     "output_type": "stream",
     "text": [
      "ODGI\n",
      "0.8844138014316559\t1.0539018857479094\t1.2224394488334656\t1.3942617797851562\t1.526375298500061\t1.7474950182437896\t1.9422280418872833\t2.0984375190734865\t2.2424348068237303\t2.403384112119675\n",
      "0.7154302620887756\t0.7334824740886688\t0.7455516612529755\t0.74698481798172\t0.7677852296829224\t0.7788108551502227\t0.781177612543106\t0.7861408400535583\t0.8071583437919617\t0.821531913280487\n",
      "0.23153594136238098\t0.2756026291847229\t0.31834899306297304\t0.3608731520175934\t0.40382183909416197\t0.4462906837463379\t0.48504701018333435\t0.5258461606502532\t0.5791045093536377\t0.6281766498088837\n",
      "0.21268565058708191\t0.22396012544631957\t0.23630149602890016\t0.23993232488632202\t0.2522756099700928\t0.2594960856437683\t0.2685124015808105\t0.2737864327430725\t0.2876786518096924\t0.3015683090686798\n",
      "0.07499932289123536\t0.08464260578155518\t0.0955731725692749\t0.10613900661468506\t0.11634131789207458\t0.1268587565422058\t0.1364423942565918\t0.14706108331680298\t0.15973779439926147\t0.1686242115497589\n",
      "\n",
      "\n",
      "STANDARD\n",
      "2.8004144275188447\n",
      "0.7051721060276032\n",
      "0.18484846234321595\n",
      "0.052860676050186156\n"
     ]
    }
   ],
   "source": [
    "## VEDAI\n",
    "file = './output_logs/time_vedai.2640177.out'\n",
    "with open(file, 'r') as f:\n",
    "    text = f.read()\n",
    "    occurences = re.findall(\n",
    "    r'\\n   Avg. Feed forward: [0-9].[0-9]*\\n|=.* [A-Z]* [0-9|x]*\\n', text)\n",
    "\n",
    "table = defaultdict(lambda: [])\n",
    "for oc in occurences:\n",
    "    if oc.strip().startswith('='):\n",
    "        fold = oc.replace('=', '').replace('\\n', '').strip()\n",
    "    else:\n",
    "        time = oc.replace('\\n   Avg. Feed forward: ', '')\n",
    "        time = float(time.strip())\n",
    "        table[fold].append(time) \n",
    "        \n",
    "print('ODGI')\n",
    "folds = ['ODGI 512x256', 'ODGI 512x64', 'ODGI 256x128', 'ODGI 256x64', 'ODGI 128x64']\n",
    "for f in folds:\n",
    "    print('\\t'.join(list(map(str, table[f]))))\n",
    "   \n",
    "print('\\n\\nSTANDARD')\n",
    "folds = ['STANDARD 1024', 'STANDARD 512', 'STANDARD 256', 'STANDARD 128']\n",
    "for f in folds:\n",
    "    print(table[f][0])"
   ]
  },
  {
   "cell_type": "code",
   "execution_count": 73,
   "metadata": {},
   "outputs": [
    {
     "name": "stdout",
     "output_type": "stream",
     "text": [
      "['============================================================== ODI YOLO 512x256\\n', '\\n   Avg. Feed forward: 2.382378318309784\\n', '\\n   Avg. Feed forward: 2.5564222931861877\\n', '\\n   Avg. Feed forward: 2.731669577360153\\n', '\\n   Avg. Feed forward: 2.756547819375992\\n', '\\n   Avg. Feed forward: 2.9211375761032103\\n', '\\n   Avg. Feed forward: 3.0650575590133666\\n', '\\n   Avg. Feed forward: 2.9835163831710814\\n', '\\n   Avg. Feed forward: 3.1604767847061157\\n', '\\n   Avg. Feed forward: 3.4475713205337524\\n', '\\n   Avg. Feed forward: 3.6564356005191803\\n', '============================================================== ODGI YOLO 256x128\\n', '\\n   Avg. Feed forward: 0.5837681686878204\\n', '\\n   Avg. Feed forward: 0.5940737640857696\\n', '\\n   Avg. Feed forward: 0.6397232043743134\\n', '\\n   Avg. Feed forward: 0.6951118123531341\\n', '\\n   Avg. Feed forward: 0.7408454322814941\\n', '\\n   Avg. Feed forward: 0.7759212803840637\\n', '\\n   Avg. Feed forward: 0.8176000154018402\\n', '\\n   Avg. Feed forward: 0.8480260729789734\\n', '\\n   Avg. Feed forward: 0.8611218893527984\\n', '\\n   Avg. Feed forward: 0.9149090731143952\\n', '============================================================== ODGI YOLO 128x64\\n', '\\n   Avg. Feed forward: 0.18610308527946473\\n', '\\n   Avg. Feed forward: 0.19542258858680725\\n', '\\n   Avg. Feed forward: 0.1991333031654358\\n', '\\n   Avg. Feed forward: 0.21473280668258668\\n', '\\n   Avg. Feed forward: 0.2236528742313385\\n', '\\n   Avg. Feed forward: 0.2335599398612976\\n', '\\n   Avg. Feed forward: 0.24524099588394166\\n', '\\n   Avg. Feed forward: 0.25354452252388\\n', '\\n   Avg. Feed forward: 0.2591501569747925\\n', '\\n   Avg. Feed forward: 0.2672025752067566\\n', '============================================================== STANDARD 1024\\n', '\\n   Avg. Feed forward: 7.766289092302323\\n', '============================================================== STANDARD 512\\n', '\\n   Avg. Feed forward: 2.0233999824523927\\n', '============================================================== STANDARD 256\\n', '\\n   Avg. Feed forward: 0.518361793756485\\n', '============================================================== STANDARD 128\\n', '\\n   Avg. Feed forward: 0.1607712960243225\\n']\n",
      "ODGI\n",
      "2.382378318309784\t2.5564222931861877\t2.731669577360153\t2.756547819375992\t2.9211375761032103\t3.0650575590133666\t2.9835163831710814\t3.1604767847061157\t3.4475713205337524\t3.6564356005191803\n",
      "0.5837681686878204\t0.5940737640857696\t0.6397232043743134\t0.6951118123531341\t0.7408454322814941\t0.7759212803840637\t0.8176000154018402\t0.8480260729789734\t0.8611218893527984\t0.9149090731143952\n",
      "0.18610308527946473\t0.19542258858680725\t0.1991333031654358\t0.21473280668258668\t0.2236528742313385\t0.2335599398612976\t0.24524099588394166\t0.25354452252388\t0.2591501569747925\t0.2672025752067566\n",
      "\n",
      "\n",
      "STANDARD\n",
      "7.766289092302323\n",
      "2.0233999824523927\n",
      "0.518361793756485\n",
      "0.1607712960243225\n"
     ]
    }
   ],
   "source": [
    "## SDD\n",
    "file = './output_logs/time_sdd.2641070.out'\n",
    "with open(file, 'r') as f:\n",
    "    text = f.read()\n",
    "    occurences = re.findall(\n",
    "    r'\\n   Avg. Feed forward: [0-9].[0-9]*\\n|=.* [A-Z]* [0-9|x]*\\n', text)\n",
    "print(occurences)\n",
    "\n",
    "table = defaultdict(lambda: [])\n",
    "for oc in occurences:\n",
    "    if oc.strip().startswith('='):\n",
    "        fold = oc.replace('=', '').replace('FOLD', '').replace('\\n', '').strip()\n",
    "    else:\n",
    "        time = oc.replace('\\n   Avg. Feed forward: ', '')\n",
    "        time = float(time.strip())\n",
    "        table[fold].append(time) \n",
    "        \n",
    "print('ODGI')\n",
    "folds = ['ODI YOLO 512x256', 'ODGI YOLO 256x128', 'ODGI YOLO 128x64']\n",
    "for f in folds:\n",
    "    print('\\t'.join(list(map(str, table[f]))))\n",
    "   \n",
    "print('\\n\\nSTANDARD')\n",
    "folds = ['STANDARD 1024', 'STANDARD 512', 'STANDARD 256', 'STANDARD 128']\n",
    "for f in folds:\n",
    "    print(table[f][0])"
   ]
  },
  {
   "cell_type": "code",
   "execution_count": 67,
   "metadata": {},
   "outputs": [
    {
     "data": {
      "text/plain": [
       "[' YOLO 512x256\\n',\n",
       " '\\n   Avg. Feed forward: 2.382378318309784\\n',\n",
       " '\\n   Avg. Feed forward: 2.5564222931861877\\n',\n",
       " '\\n   Avg. Feed forward: 2.731669577360153\\n',\n",
       " '\\n   Avg. Feed forward: 2.756547819375992\\n',\n",
       " '\\n   Avg. Feed forward: 2.9211375761032103\\n',\n",
       " '\\n   Avg. Feed forward: 3.0650575590133666\\n']"
      ]
     },
     "execution_count": 67,
     "metadata": {},
     "output_type": "execute_result"
    }
   ],
   "source": [
    "occurences"
   ]
  },
  {
   "cell_type": "code",
   "execution_count": null,
   "metadata": {},
   "outputs": [],
   "source": []
  }
 ],
 "metadata": {
  "kernelspec": {
   "display_name": "Python 3",
   "language": "python",
   "name": "python3"
  },
  "language_info": {
   "codemirror_mode": {
    "name": "ipython",
    "version": 3
   },
   "file_extension": ".py",
   "mimetype": "text/x-python",
   "name": "python",
   "nbconvert_exporter": "python",
   "pygments_lexer": "ipython3",
   "version": "3.6.6"
  }
 },
 "nbformat": 4,
 "nbformat_minor": 2
}
