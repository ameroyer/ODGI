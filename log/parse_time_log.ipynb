{
 "cells": [
  {
   "cell_type": "code",
   "execution_count": 1,
   "metadata": {},
   "outputs": [],
   "source": [
    "import re\n",
    "from collections import defaultdict"
   ]
  },
  {
   "cell_type": "code",
   "execution_count": 2,
   "metadata": {},
   "outputs": [
    {
     "name": "stdout",
     "output_type": "stream",
     "text": [
      "dict_keys(['ODGI 512x256', 'ODGI 512x64', 'ODGI 256x128', 'ODGI 256x64', 'ODGI 128x64', 'STANDARD 1024', 'STANDARD 512', 'STANDARD 256', 'STANDARD 128'])\n",
      "ODGI\n",
      "0.027236252784729003\t0.012375906944274902\t0.013057308197021484\t0.01339595890045166\t0.013679325103759766\t0.015182049751281738\t0.015739356994628906\t0.015298301696777344\t0.017122215270996093\t0.016887964248657225\n",
      "0.014658621788024902\t0.012302048683166504\t0.013807830810546875\t0.013150530815124512\t0.013186906814575195\t0.013191516876220704\t0.013081768035888671\t0.01302083683013916\t0.012598130226135254\t0.013010578155517578\n",
      "0.01165748691558838\t0.011427611351013183\t0.01161228084564209\t0.011444229125976563\t0.0118209171295166\t0.011312506675720214\t0.012878446578979493\t0.012581809997558594\t0.011668460845947266\t0.013187261581420898\n",
      "0.011303520202636719\t0.011327923774719239\t0.010809176445007325\t0.012410224914550782\t0.012235899925231934\t0.011223446846008301\t0.011613598823547363\t0.010917767524719239\t0.011150217056274414\t0.011733562469482421\n",
      "0.012019128799438476\t0.010448219299316407\t0.011938520431518555\t0.011177435874938964\t0.011709776878356934\t0.01096473503112793\t0.01114120101928711\t0.01108109474182129\t0.01203839874267578\t0.011147715568542481\n",
      "\n",
      "\n",
      "STANDARD\n",
      "0.016610440254211427\n",
      "0.008624979972839356\n",
      "0.008453328132629395\n",
      "0.0068430652618408205\n"
     ]
    }
   ],
   "source": [
    "## VEDAI\n",
    "file = './output_logs/time_vedai.2640177.out' # cpu\n",
    "file = '../timing_scripts/log/vedai.txt'      # pi\n",
    "file = './output_logs/time_vedai.2643178.out' # gpu\n",
    "with open(file, 'r') as f:\n",
    "    text = f.read()\n",
    "    occurences = re.findall(\n",
    "    r'\\n   Avg. Feed forward: [0-9].*.[0-9]*\\n|=.* [A-Z]* [0-9|x]*\\n', text)\n",
    "\n",
    "table = defaultdict(lambda: [])\n",
    "for oc in occurences:\n",
    "    if oc.strip().startswith('='):\n",
    "        fold = oc.replace('=', '').replace('\\n', '').strip()\n",
    "    else:\n",
    "        time = oc.replace('\\n   Avg. Feed forward: ', '')\n",
    "        time = float(time.strip())\n",
    "        table[fold].append(time) \n",
    "print(table.keys())\n",
    "print('ODGI')\n",
    "folds = ['ODGI 512x256', 'ODGI 512x64', 'ODGI 256x128', 'ODGI 256x64', 'ODGI 128x64']\n",
    "for f in folds:\n",
    "    print('\\t'.join(list(map(str, table[f]))))\n",
    "   \n",
    "print('\\n\\nSTANDARD')\n",
    "folds = ['STANDARD 1024', 'STANDARD 512', 'STANDARD 256', 'STANDARD 128']\n",
    "for f in folds:\n",
    "    print(table[f][0])"
   ]
  },
  {
   "cell_type": "code",
   "execution_count": 4,
   "metadata": {},
   "outputs": [
    {
     "name": "stdout",
     "output_type": "stream",
     "text": [
      "ODGI\n",
      "0.024846758842468262\t0.024495312690734863\t0.025293729782104493\t0.024519615173339844\t0.024879103660583497\t0.025838554382324217\t0.027768449783325197\t0.027146167755126953\t0.027429619789123536\t0.026944766998291014\n",
      "0.02088405704498291\t0.01994607353210449\t0.021283473014831543\t0.02066801643371582\t0.020214964866638183\t0.02022361660003662\t0.021291534423828126\t0.020892476081848143\t0.021274914741516115\t0.021216335296630858\n",
      "0.01992292022705078\t0.020689433097839355\t0.01966613006591797\t0.019249728202819824\t0.019825248718261718\t0.020465868949890137\t0.020721991539001464\t0.01946982765197754\t0.021285103797912597\t0.023780117988586424\n",
      "\n",
      "\n",
      "STANDARD\n",
      "0.03710583305358887\n",
      "0.01866248035430908\n",
      "0.015306390762329102\n",
      "0.015480475425720215\n"
     ]
    }
   ],
   "source": [
    "## SDD\n",
    "file = './output_logs/time_sdd.2641070.out'\n",
    "file = '../timing_scripts/log/sdd.txt'\n",
    "file = './output_logs/time_sdd.2643176.out'\n",
    "with open(file, 'r') as f:\n",
    "    text = f.read()\n",
    "    occurences = re.findall(\n",
    "    r'\\n   Avg. Feed forward: [0-9].[0-9]*\\n|=.* [A-Z]* [0-9|x]*\\n', text)\n",
    "\n",
    "table = defaultdict(lambda: [])\n",
    "for oc in occurences:\n",
    "    if oc.strip().startswith('='):\n",
    "        fold = oc.replace('=', '').replace('FOLD', '').replace('\\n', '').strip()\n",
    "    else:\n",
    "        time = oc.replace('\\n   Avg. Feed forward: ', '')\n",
    "        time = float(time.strip())\n",
    "        table[fold].append(time) \n",
    "        \n",
    "print('ODGI')\n",
    "folds = ['ODI YOLO 512x256', 'ODGI YOLO 256x128', 'ODGI YOLO 128x64']\n",
    "for f in folds:\n",
    "    print('\\t'.join(list(map(str, table[f]))))\n",
    "   \n",
    "print('\\n\\nSTANDARD')\n",
    "folds = ['STANDARD 1024', 'STANDARD 512', 'STANDARD 256', 'STANDARD 128']\n",
    "for f in folds:\n",
    "    print(table[f][0])"
   ]
  },
  {
   "cell_type": "code",
   "execution_count": 67,
   "metadata": {},
   "outputs": [
    {
     "data": {
      "text/plain": [
       "[' YOLO 512x256\\n',\n",
       " '\\n   Avg. Feed forward: 2.382378318309784\\n',\n",
       " '\\n   Avg. Feed forward: 2.5564222931861877\\n',\n",
       " '\\n   Avg. Feed forward: 2.731669577360153\\n',\n",
       " '\\n   Avg. Feed forward: 2.756547819375992\\n',\n",
       " '\\n   Avg. Feed forward: 2.9211375761032103\\n',\n",
       " '\\n   Avg. Feed forward: 3.0650575590133666\\n']"
      ]
     },
     "execution_count": 67,
     "metadata": {},
     "output_type": "execute_result"
    }
   ],
   "source": [
    "occurences"
   ]
  },
  {
   "cell_type": "code",
   "execution_count": null,
   "metadata": {},
   "outputs": [],
   "source": []
  }
 ],
 "metadata": {
  "kernelspec": {
   "display_name": "Python 3",
   "language": "python",
   "name": "python3"
  },
  "language_info": {
   "codemirror_mode": {
    "name": "ipython",
    "version": 3
   },
   "file_extension": ".py",
   "mimetype": "text/x-python",
   "name": "python",
   "nbconvert_exporter": "python",
   "pygments_lexer": "ipython3",
   "version": "3.6.6"
  }
 },
 "nbformat": 4,
 "nbformat_minor": 2
}
