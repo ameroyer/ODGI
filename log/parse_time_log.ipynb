{
 "cells": [
  {
   "cell_type": "code",
   "execution_count": 1,
   "metadata": {
    "ExecuteTime": {
     "end_time": "2018-10-10T09:02:35.511085Z",
     "start_time": "2018-10-10T09:02:35.505949Z"
    }
   },
   "outputs": [],
   "source": [
    "import re\n",
    "from collections import defaultdict"
   ]
  },
  {
   "cell_type": "code",
   "execution_count": 80,
   "metadata": {},
   "outputs": [
    {
     "name": "stdout",
     "output_type": "stream",
     "text": [
      "dict_keys(['ODGI 512x256', 'ODGI 512x64', 'ODGI 256x128', 'ODGI 256x64', 'ODGI 128x64', 'STANDARD 1024', 'STANDARD 512', 'STANDARD 256', 'STANDARD 128'])\n",
      "ODGI\n",
      "3.393428716659546\t4.29836213350296\t5.0626952576637265\t5.784733929634094\t6.576732726097107\t7.286940259933472\t7.9924533867836\t8.708412520885467\t9.445021119117737\t10.132526738643646\n",
      "2.9360222148895265\t2.977284610271454\t3.026989531517029\t3.1148310327529907\t3.109174857139587\t3.152123017311096\t3.1893989396095277\t3.3179910159111023\t3.2853056383132935\t3.3336575293540953\n",
      "1.0412725353240966\t1.2296199154853822\t1.38016419172287\t1.5117312598228454\t1.6810823440551759\t1.8469130063056947\t2.0172514843940736\t2.1986221504211425\t2.375710606575012\t2.5533834052085878\n",
      "0.8726007819175721\t0.9056006908416748\t0.9425514006614685\t1.0181148219108582\t1.0112749004364014\t1.0547435998916626\t1.0815768122673035\t1.2061518120765686\t1.1627399301528931\t1.210151789188385\n",
      "0.43383495330810545\t0.45815880298614503\t0.4900853371620178\t0.5590260624885559\t0.5480729532241821\t0.5807477712631226\t0.6079601454734802\t0.7288268160820007\t0.6768679881095886\t0.7148481011390686\n",
      "\n",
      "\n",
      "STANDARD\n",
      "11.44146674156189\n",
      "2.780079412460327\n",
      "0.7190078639984131\n",
      "0.2721254777908325\n"
     ]
    }
   ],
   "source": [
    "## VEDAI\n",
    "file = './output_logs/time_vedai.2640177.out'\n",
    "file = '../timing_scripts/log/vedai.txt'\n",
    "with open(file, 'r') as f:\n",
    "    text = f.read()\n",
    "    occurences = re.findall(\n",
    "    r'\\n   Avg. Feed forward: [0-9].*.[0-9]*\\n|=.* [A-Z]* [0-9|x]*\\n', text)\n",
    "\n",
    "table = defaultdict(lambda: [])\n",
    "for oc in occurences:\n",
    "    if oc.strip().startswith('='):\n",
    "        fold = oc.replace('=', '').replace('\\n', '').strip()\n",
    "    else:\n",
    "        time = oc.replace('\\n   Avg. Feed forward: ', '')\n",
    "        time = float(time.strip())\n",
    "        table[fold].append(time) \n",
    "print(table.keys())\n",
    "print('ODGI')\n",
    "folds = ['ODGI 512x256', 'ODGI 512x64', 'ODGI 256x128', 'ODGI 256x64', 'ODGI 128x64']\n",
    "for f in folds:\n",
    "    print('\\t'.join(list(map(str, table[f]))))\n",
    "   \n",
    "print('\\n\\nSTANDARD')\n",
    "folds = ['STANDARD 1024', 'STANDARD 512', 'STANDARD 256', 'STANDARD 128']\n",
    "for f in folds:\n",
    "    print(table[f][0])"
   ]
  },
  {
   "cell_type": "code",
   "execution_count": 3,
   "metadata": {
    "ExecuteTime": {
     "end_time": "2018-10-10T09:03:08.332010Z",
     "start_time": "2018-10-10T09:03:08.308846Z"
    }
   },
   "outputs": [
    {
     "name": "stdout",
     "output_type": "stream",
     "text": [
      "['============================================================== ODI YOLO 512x256\\n', '\\n   Avg. Feed forward: 12.036146726608276\\n', '\\n   Avg. Feed forward: 13.788242292404174\\n', '\\n   Avg. Feed forward: 14.556564359664916\\n', '\\n   Avg. Feed forward: 15.350228781700133\\n', '\\n   Avg. Feed forward: 16.119333817958832\\n', '\\n   Avg. Feed forward: 16.833194255828857\\n', '\\n   Avg. Feed forward: 17.50246822834015\\n', '\\n   Avg. Feed forward: 18.254829919338228\\n', '\\n   Avg. Feed forward: 18.988064420223235\\n', '\\n   Avg. Feed forward: 19.655199830532073\\n', '============================================================== ODGI YOLO 256x128\\n', '\\n   Avg. Feed forward: 3.9067107605934144\\n', '\\n   Avg. Feed forward: 4.084489057064056\\n', '\\n   Avg. Feed forward: 4.260064127445221\\n', '\\n   Avg. Feed forward: 4.437191932201386\\n', '\\n   Avg. Feed forward: 4.605063621997833\\n', '\\n   Avg. Feed forward: 4.80359914302826\\n', '\\n   Avg. Feed forward: 4.979499645233155\\n', '\\n   Avg. Feed forward: 5.162516238689423\\n', '\\n   Avg. Feed forward: 5.355117659568787\\n', '\\n   Avg. Feed forward: 5.540936460494995\\n', '============================================================== ODGI YOLO 128x64\\n', '\\n   Avg. Feed forward: 1.2714787721633911\\n', '\\n   Avg. Feed forward: 1.292572467327118\\n', '\\n   Avg. Feed forward: 1.3369851589202881\\n', '\\n   Avg. Feed forward: 1.4133666706085206\\n', '\\n   Avg. Feed forward: 1.4117093324661254\\n', '\\n   Avg. Feed forward: 1.45427508354187\\n', '\\n   Avg. Feed forward: 1.488615207672119\\n', '\\n   Avg. Feed forward: 1.6130746293067932\\n', '\\n   Avg. Feed forward: 1.5759473061561584\\n', '\\n   Avg. Feed forward: 1.6164922785758973\\n', '============================================================== STANDARD 1024\\n', '\\n   Avg. Feed forward: 48.170215561389924\\n', '============================================================== STANDARD 512\\n', '\\n   Avg. Feed forward: 12.359548766613006\\n', '============================================================== STANDARD 256\\n', '\\n   Avg. Feed forward: 3.5591578483581543\\n', '============================================================== STANDARD 128\\n', '\\n   Avg. Feed forward: 1.0986747789382934\\n']\n",
      "ODGI\n",
      "12.036146726608276\t13.788242292404174\t14.556564359664916\t15.350228781700133\t16.119333817958832\t16.833194255828857\t17.50246822834015\t18.254829919338228\t18.988064420223235\t19.655199830532073\n",
      "3.9067107605934144\t4.084489057064056\t4.260064127445221\t4.437191932201386\t4.605063621997833\t4.80359914302826\t4.979499645233155\t5.162516238689423\t5.355117659568787\t5.540936460494995\n",
      "1.2714787721633911\t1.292572467327118\t1.3369851589202881\t1.4133666706085206\t1.4117093324661254\t1.45427508354187\t1.488615207672119\t1.6130746293067932\t1.5759473061561584\t1.6164922785758973\n",
      "\n",
      "\n",
      "STANDARD\n",
      "48.170215561389924\n",
      "12.359548766613006\n",
      "3.5591578483581543\n",
      "1.0986747789382934\n"
     ]
    }
   ],
   "source": [
    "## SDD\n",
    "file = './output_logs/time_sdd.2641070.out'\n",
    "file = '../timing_scripts/log/sdd.txt'\n",
    "with open(file, 'r') as f:\n",
    "    text = f.read()\n",
    "    occurences = re.findall(\n",
    "    r'\\n   Avg. Feed forward: [0-9].*.[0-9]*\\n|=.* [A-Z]* [0-9|x]*\\n', text)\n",
    "print(occurences)\n",
    "\n",
    "table = defaultdict(lambda: [])\n",
    "for oc in occurences:\n",
    "    if oc.strip().startswith('='):\n",
    "        fold = oc.replace('=', '').replace('FOLD', '').replace('\\n', '').strip()\n",
    "    else:\n",
    "        time = oc.replace('\\n   Avg. Feed forward: ', '')\n",
    "        time = float(time.strip())\n",
    "        table[fold].append(time) \n",
    "        \n",
    "print('ODGI')\n",
    "folds = ['ODI YOLO 512x256', 'ODGI YOLO 256x128', 'ODGI YOLO 128x64']\n",
    "for f in folds:\n",
    "    print('\\t'.join(list(map(str, table[f]))))\n",
    "   \n",
    "print('\\n\\nSTANDARD')\n",
    "folds = ['STANDARD 1024', 'STANDARD 512', 'STANDARD 256', 'STANDARD 128']\n",
    "for f in folds:\n",
    "    print(table[f][0])"
   ]
  },
  {
   "cell_type": "code",
   "execution_count": 67,
   "metadata": {},
   "outputs": [
    {
     "data": {
      "text/plain": [
       "[' YOLO 512x256\\n',\n",
       " '\\n   Avg. Feed forward: 2.382378318309784\\n',\n",
       " '\\n   Avg. Feed forward: 2.5564222931861877\\n',\n",
       " '\\n   Avg. Feed forward: 2.731669577360153\\n',\n",
       " '\\n   Avg. Feed forward: 2.756547819375992\\n',\n",
       " '\\n   Avg. Feed forward: 2.9211375761032103\\n',\n",
       " '\\n   Avg. Feed forward: 3.0650575590133666\\n']"
      ]
     },
     "execution_count": 67,
     "metadata": {},
     "output_type": "execute_result"
    }
   ],
   "source": [
    "occurences"
   ]
  },
  {
   "cell_type": "code",
   "execution_count": null,
   "metadata": {},
   "outputs": [],
   "source": []
  }
 ],
 "metadata": {
  "kernelspec": {
   "display_name": "Python 3",
   "language": "python",
   "name": "python3"
  },
  "language_info": {
   "codemirror_mode": {
    "name": "ipython",
    "version": 3
   },
   "file_extension": ".py",
   "mimetype": "text/x-python",
   "name": "python",
   "nbconvert_exporter": "python",
   "pygments_lexer": "ipython3",
   "version": "3.5.2"
  }
 },
 "nbformat": 4,
 "nbformat_minor": 2
}
