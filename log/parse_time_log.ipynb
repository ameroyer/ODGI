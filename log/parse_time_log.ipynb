{
 "cells": [
  {
   "cell_type": "code",
   "execution_count": 72,
   "metadata": {},
   "outputs": [],
   "source": [
    "import re\n",
    "from collections import defaultdict"
   ]
  },
  {
   "cell_type": "code",
   "execution_count": 80,
   "metadata": {},
   "outputs": [
    {
     "name": "stdout",
     "output_type": "stream",
     "text": [
      "dict_keys(['ODGI 512x256', 'ODGI 512x64', 'ODGI 256x128', 'ODGI 256x64', 'ODGI 128x64', 'STANDARD 1024', 'STANDARD 512', 'STANDARD 256', 'STANDARD 128'])\n",
      "ODGI\n",
      "3.393428716659546\t4.29836213350296\t5.0626952576637265\t5.784733929634094\t6.576732726097107\t7.286940259933472\t7.9924533867836\t8.708412520885467\t9.445021119117737\t10.132526738643646\n",
      "2.9360222148895265\t2.977284610271454\t3.026989531517029\t3.1148310327529907\t3.109174857139587\t3.152123017311096\t3.1893989396095277\t3.3179910159111023\t3.2853056383132935\t3.3336575293540953\n",
      "1.0412725353240966\t1.2296199154853822\t1.38016419172287\t1.5117312598228454\t1.6810823440551759\t1.8469130063056947\t2.0172514843940736\t2.1986221504211425\t2.375710606575012\t2.5533834052085878\n",
      "0.8726007819175721\t0.9056006908416748\t0.9425514006614685\t1.0181148219108582\t1.0112749004364014\t1.0547435998916626\t1.0815768122673035\t1.2061518120765686\t1.1627399301528931\t1.210151789188385\n",
      "0.43383495330810545\t0.45815880298614503\t0.4900853371620178\t0.5590260624885559\t0.5480729532241821\t0.5807477712631226\t0.6079601454734802\t0.7288268160820007\t0.6768679881095886\t0.7148481011390686\n",
      "\n",
      "\n",
      "STANDARD\n",
      "11.44146674156189\n",
      "2.780079412460327\n",
      "0.7190078639984131\n",
      "0.2721254777908325\n"
     ]
    }
   ],
   "source": [
    "## VEDAI\n",
    "file = './output_logs/time_vedai.2640177.out'\n",
    "file = '../timing_scripts/log/vedai.txt'\n",
    "with open(file, 'r') as f:\n",
    "    text = f.read()\n",
    "    occurences = re.findall(\n",
    "    r'\\n   Avg. Feed forward: [0-9].*.[0-9]*\\n|=.* [A-Z]* [0-9|x]*\\n', text)\n",
    "\n",
    "table = defaultdict(lambda: [])\n",
    "for oc in occurences:\n",
    "    if oc.strip().startswith('='):\n",
    "        fold = oc.replace('=', '').replace('\\n', '').strip()\n",
    "    else:\n",
    "        time = oc.replace('\\n   Avg. Feed forward: ', '')\n",
    "        time = float(time.strip())\n",
    "        table[fold].append(time) \n",
    "print(table.keys())\n",
    "print('ODGI')\n",
    "folds = ['ODGI 512x256', 'ODGI 512x64', 'ODGI 256x128', 'ODGI 256x64', 'ODGI 128x64']\n",
    "for f in folds:\n",
    "    print('\\t'.join(list(map(str, table[f]))))\n",
    "   \n",
    "print('\\n\\nSTANDARD')\n",
    "folds = ['STANDARD 1024', 'STANDARD 512', 'STANDARD 256', 'STANDARD 128']\n",
    "for f in folds:\n",
    "    print(table[f][0])"
   ]
  },
  {
   "cell_type": "code",
   "execution_count": 73,
   "metadata": {},
   "outputs": [
    {
     "name": "stdout",
     "output_type": "stream",
     "text": [
      "['============================================================== ODI YOLO 512x256\\n', '\\n   Avg. Feed forward: 2.382378318309784\\n', '\\n   Avg. Feed forward: 2.5564222931861877\\n', '\\n   Avg. Feed forward: 2.731669577360153\\n', '\\n   Avg. Feed forward: 2.756547819375992\\n', '\\n   Avg. Feed forward: 2.9211375761032103\\n', '\\n   Avg. Feed forward: 3.0650575590133666\\n', '\\n   Avg. Feed forward: 2.9835163831710814\\n', '\\n   Avg. Feed forward: 3.1604767847061157\\n', '\\n   Avg. Feed forward: 3.4475713205337524\\n', '\\n   Avg. Feed forward: 3.6564356005191803\\n', '============================================================== ODGI YOLO 256x128\\n', '\\n   Avg. Feed forward: 0.5837681686878204\\n', '\\n   Avg. Feed forward: 0.5940737640857696\\n', '\\n   Avg. Feed forward: 0.6397232043743134\\n', '\\n   Avg. Feed forward: 0.6951118123531341\\n', '\\n   Avg. Feed forward: 0.7408454322814941\\n', '\\n   Avg. Feed forward: 0.7759212803840637\\n', '\\n   Avg. Feed forward: 0.8176000154018402\\n', '\\n   Avg. Feed forward: 0.8480260729789734\\n', '\\n   Avg. Feed forward: 0.8611218893527984\\n', '\\n   Avg. Feed forward: 0.9149090731143952\\n', '============================================================== ODGI YOLO 128x64\\n', '\\n   Avg. Feed forward: 0.18610308527946473\\n', '\\n   Avg. Feed forward: 0.19542258858680725\\n', '\\n   Avg. Feed forward: 0.1991333031654358\\n', '\\n   Avg. Feed forward: 0.21473280668258668\\n', '\\n   Avg. Feed forward: 0.2236528742313385\\n', '\\n   Avg. Feed forward: 0.2335599398612976\\n', '\\n   Avg. Feed forward: 0.24524099588394166\\n', '\\n   Avg. Feed forward: 0.25354452252388\\n', '\\n   Avg. Feed forward: 0.2591501569747925\\n', '\\n   Avg. Feed forward: 0.2672025752067566\\n', '============================================================== STANDARD 1024\\n', '\\n   Avg. Feed forward: 7.766289092302323\\n', '============================================================== STANDARD 512\\n', '\\n   Avg. Feed forward: 2.0233999824523927\\n', '============================================================== STANDARD 256\\n', '\\n   Avg. Feed forward: 0.518361793756485\\n', '============================================================== STANDARD 128\\n', '\\n   Avg. Feed forward: 0.1607712960243225\\n']\n",
      "ODGI\n",
      "2.382378318309784\t2.5564222931861877\t2.731669577360153\t2.756547819375992\t2.9211375761032103\t3.0650575590133666\t2.9835163831710814\t3.1604767847061157\t3.4475713205337524\t3.6564356005191803\n",
      "0.5837681686878204\t0.5940737640857696\t0.6397232043743134\t0.6951118123531341\t0.7408454322814941\t0.7759212803840637\t0.8176000154018402\t0.8480260729789734\t0.8611218893527984\t0.9149090731143952\n",
      "0.18610308527946473\t0.19542258858680725\t0.1991333031654358\t0.21473280668258668\t0.2236528742313385\t0.2335599398612976\t0.24524099588394166\t0.25354452252388\t0.2591501569747925\t0.2672025752067566\n",
      "\n",
      "\n",
      "STANDARD\n",
      "7.766289092302323\n",
      "2.0233999824523927\n",
      "0.518361793756485\n",
      "0.1607712960243225\n"
     ]
    }
   ],
   "source": [
    "## SDD\n",
    "file = './output_logs/time_sdd.2641070.out'\n",
    "with open(file, 'r') as f:\n",
    "    text = f.read()\n",
    "    occurences = re.findall(\n",
    "    r'\\n   Avg. Feed forward: [0-9].[0-9]*\\n|=.* [A-Z]* [0-9|x]*\\n', text)\n",
    "print(occurences)\n",
    "\n",
    "table = defaultdict(lambda: [])\n",
    "for oc in occurences:\n",
    "    if oc.strip().startswith('='):\n",
    "        fold = oc.replace('=', '').replace('FOLD', '').replace('\\n', '').strip()\n",
    "    else:\n",
    "        time = oc.replace('\\n   Avg. Feed forward: ', '')\n",
    "        time = float(time.strip())\n",
    "        table[fold].append(time) \n",
    "        \n",
    "print('ODGI')\n",
    "folds = ['ODI YOLO 512x256', 'ODGI YOLO 256x128', 'ODGI YOLO 128x64']\n",
    "for f in folds:\n",
    "    print('\\t'.join(list(map(str, table[f]))))\n",
    "   \n",
    "print('\\n\\nSTANDARD')\n",
    "folds = ['STANDARD 1024', 'STANDARD 512', 'STANDARD 256', 'STANDARD 128']\n",
    "for f in folds:\n",
    "    print(table[f][0])"
   ]
  },
  {
   "cell_type": "code",
   "execution_count": 67,
   "metadata": {},
   "outputs": [
    {
     "data": {
      "text/plain": [
       "[' YOLO 512x256\\n',\n",
       " '\\n   Avg. Feed forward: 2.382378318309784\\n',\n",
       " '\\n   Avg. Feed forward: 2.5564222931861877\\n',\n",
       " '\\n   Avg. Feed forward: 2.731669577360153\\n',\n",
       " '\\n   Avg. Feed forward: 2.756547819375992\\n',\n",
       " '\\n   Avg. Feed forward: 2.9211375761032103\\n',\n",
       " '\\n   Avg. Feed forward: 3.0650575590133666\\n']"
      ]
     },
     "execution_count": 67,
     "metadata": {},
     "output_type": "execute_result"
    }
   ],
   "source": [
    "occurences"
   ]
  },
  {
   "cell_type": "code",
   "execution_count": null,
   "metadata": {},
   "outputs": [],
   "source": []
  }
 ],
 "metadata": {
  "kernelspec": {
   "display_name": "Python 3",
   "language": "python",
   "name": "python3"
  },
  "language_info": {
   "codemirror_mode": {
    "name": "ipython",
    "version": 3
   },
   "file_extension": ".py",
   "mimetype": "text/x-python",
   "name": "python",
   "nbconvert_exporter": "python",
   "pygments_lexer": "ipython3",
   "version": "3.6.6"
  }
 },
 "nbformat": 4,
 "nbformat_minor": 2
}
